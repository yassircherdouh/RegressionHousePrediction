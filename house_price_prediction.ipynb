{
 "cells": [
  {
   "cell_type": "code",
   "execution_count": 1,
   "id": "51b2a61b-0d3c-4479-bbe7-d7f3a90b4bac",
   "metadata": {},
   "outputs": [
    {
     "name": "stdout",
     "output_type": "stream",
     "text": [
      "Defaulting to user installation because normal site-packages is not writeable\n",
      "Requirement already satisfied: scikit-learn in /home/kodzuken/.local/lib/python3.10/site-packages (1.7.1)\n",
      "Requirement already satisfied: pandas in /home/kodzuken/.local/lib/python3.10/site-packages (2.3.1)\n",
      "Requirement already satisfied: numpy in /home/kodzuken/.local/lib/python3.10/site-packages (2.2.6)\n",
      "Requirement already satisfied: seaborn in /home/kodzuken/.local/lib/python3.10/site-packages (0.13.2)\n",
      "Requirement already satisfied: matplotlib in /home/kodzuken/.local/lib/python3.10/site-packages (3.10.3)\n",
      "Requirement already satisfied: threadpoolctl>=3.1.0 in /home/kodzuken/.local/lib/python3.10/site-packages (from scikit-learn) (3.6.0)\n",
      "Requirement already satisfied: joblib>=1.2.0 in /home/kodzuken/.local/lib/python3.10/site-packages (from scikit-learn) (1.5.1)\n",
      "Requirement already satisfied: scipy>=1.8.0 in /home/kodzuken/.local/lib/python3.10/site-packages (from scikit-learn) (1.15.3)\n",
      "Requirement already satisfied: tzdata>=2022.7 in /home/kodzuken/.local/lib/python3.10/site-packages (from pandas) (2025.2)\n",
      "Requirement already satisfied: pytz>=2020.1 in /usr/lib/python3/dist-packages (from pandas) (2022.1)\n",
      "Requirement already satisfied: python-dateutil>=2.8.2 in /home/kodzuken/.local/lib/python3.10/site-packages (from pandas) (2.9.0.post0)\n",
      "Requirement already satisfied: fonttools>=4.22.0 in /home/kodzuken/.local/lib/python3.10/site-packages (from matplotlib) (4.59.0)\n",
      "Requirement already satisfied: packaging>=20.0 in /home/kodzuken/.local/lib/python3.10/site-packages (from matplotlib) (25.0)\n",
      "Requirement already satisfied: pyparsing>=2.3.1 in /usr/lib/python3/dist-packages (from matplotlib) (2.4.7)\n",
      "Requirement already satisfied: cycler>=0.10 in /home/kodzuken/.local/lib/python3.10/site-packages (from matplotlib) (0.12.1)\n",
      "Requirement already satisfied: kiwisolver>=1.3.1 in /home/kodzuken/.local/lib/python3.10/site-packages (from matplotlib) (1.4.8)\n",
      "Requirement already satisfied: contourpy>=1.0.1 in /home/kodzuken/.local/lib/python3.10/site-packages (from matplotlib) (1.3.2)\n",
      "Requirement already satisfied: pillow>=8 in /home/kodzuken/.local/lib/python3.10/site-packages (from matplotlib) (11.3.0)\n",
      "Requirement already satisfied: six>=1.5 in /usr/lib/python3/dist-packages (from python-dateutil>=2.8.2->pandas) (1.16.0)\n",
      "Note: you may need to restart the kernel to use updated packages.\n"
     ]
    }
   ],
   "source": [
    "# Installing the necessary packages\n",
    "%pip install scikit-learn pandas numpy seaborn matplotlib"
   ]
  },
  {
   "cell_type": "code",
   "execution_count": 2,
   "id": "67317518-bb3c-4802-a54b-3502dcb734aa",
   "metadata": {},
   "outputs": [],
   "source": [
    "# Importing the packages\n",
    "import pandas as pd\n",
    "import numpy as np\n",
    "import seaborn as sns\n",
    "import matplotlib.pyplot as plt\n",
    "from sklearn import linear_model\n",
    "from sklearn.linear_model import LinearRegression, Ridge, Lasso\n",
    "from sklearn.metrics import root_mean_squared_error, r2_score\n",
    "from sklearn.model_selection import cross_val_score\n",
    "from sklearn.preprocessing import StandardScaler"
   ]
  },
  {
   "cell_type": "markdown",
   "id": "946a4672-12c6-4b0b-b351-c5c14b4bb5d5",
   "metadata": {},
   "source": [
    "# Train Data"
   ]
  },
  {
   "cell_type": "code",
   "execution_count": 3,
   "id": "c19cccd6-d914-432f-9461-5706723d265b",
   "metadata": {},
   "outputs": [
    {
     "data": {
      "text/html": [
       "<div>\n",
       "<style scoped>\n",
       "    .dataframe tbody tr th:only-of-type {\n",
       "        vertical-align: middle;\n",
       "    }\n",
       "\n",
       "    .dataframe tbody tr th {\n",
       "        vertical-align: top;\n",
       "    }\n",
       "\n",
       "    .dataframe thead th {\n",
       "        text-align: right;\n",
       "    }\n",
       "</style>\n",
       "<table border=\"1\" class=\"dataframe\">\n",
       "  <thead>\n",
       "    <tr style=\"text-align: right;\">\n",
       "      <th></th>\n",
       "      <th>beds</th>\n",
       "      <th>baths</th>\n",
       "      <th>size</th>\n",
       "      <th>size_units</th>\n",
       "      <th>lot_size</th>\n",
       "      <th>lot_size_units</th>\n",
       "      <th>zip_code</th>\n",
       "      <th>price</th>\n",
       "    </tr>\n",
       "  </thead>\n",
       "  <tbody>\n",
       "    <tr>\n",
       "      <th>0</th>\n",
       "      <td>3</td>\n",
       "      <td>2.5</td>\n",
       "      <td>2590.0</td>\n",
       "      <td>sqft</td>\n",
       "      <td>6000.00</td>\n",
       "      <td>sqft</td>\n",
       "      <td>98144</td>\n",
       "      <td>795000.0</td>\n",
       "    </tr>\n",
       "    <tr>\n",
       "      <th>1</th>\n",
       "      <td>4</td>\n",
       "      <td>2.0</td>\n",
       "      <td>2240.0</td>\n",
       "      <td>sqft</td>\n",
       "      <td>0.31</td>\n",
       "      <td>acre</td>\n",
       "      <td>98106</td>\n",
       "      <td>915000.0</td>\n",
       "    </tr>\n",
       "    <tr>\n",
       "      <th>2</th>\n",
       "      <td>4</td>\n",
       "      <td>3.0</td>\n",
       "      <td>2040.0</td>\n",
       "      <td>sqft</td>\n",
       "      <td>3783.00</td>\n",
       "      <td>sqft</td>\n",
       "      <td>98107</td>\n",
       "      <td>950000.0</td>\n",
       "    </tr>\n",
       "    <tr>\n",
       "      <th>3</th>\n",
       "      <td>4</td>\n",
       "      <td>3.0</td>\n",
       "      <td>3800.0</td>\n",
       "      <td>sqft</td>\n",
       "      <td>5175.00</td>\n",
       "      <td>sqft</td>\n",
       "      <td>98199</td>\n",
       "      <td>1950000.0</td>\n",
       "    </tr>\n",
       "    <tr>\n",
       "      <th>4</th>\n",
       "      <td>2</td>\n",
       "      <td>2.0</td>\n",
       "      <td>1042.0</td>\n",
       "      <td>sqft</td>\n",
       "      <td>NaN</td>\n",
       "      <td>NaN</td>\n",
       "      <td>98102</td>\n",
       "      <td>950000.0</td>\n",
       "    </tr>\n",
       "  </tbody>\n",
       "</table>\n",
       "</div>"
      ],
      "text/plain": [
       "   beds  baths    size size_units  lot_size lot_size_units  zip_code  \\\n",
       "0     3    2.5  2590.0       sqft   6000.00           sqft     98144   \n",
       "1     4    2.0  2240.0       sqft      0.31           acre     98106   \n",
       "2     4    3.0  2040.0       sqft   3783.00           sqft     98107   \n",
       "3     4    3.0  3800.0       sqft   5175.00           sqft     98199   \n",
       "4     2    2.0  1042.0       sqft       NaN            NaN     98102   \n",
       "\n",
       "       price  \n",
       "0   795000.0  \n",
       "1   915000.0  \n",
       "2   950000.0  \n",
       "3  1950000.0  \n",
       "4   950000.0  "
      ]
     },
     "execution_count": 3,
     "metadata": {},
     "output_type": "execute_result"
    }
   ],
   "source": [
    "# Viewing & Reading the Dataset\n",
    "train = pd.read_csv(\"Data/train.csv\")\n",
    "train.head()"
   ]
  },
  {
   "cell_type": "code",
   "execution_count": 4,
   "id": "817b7854-131e-4ec6-8168-0eeeb80ac5fe",
   "metadata": {},
   "outputs": [
    {
     "name": "stdout",
     "output_type": "stream",
     "text": [
      "<class 'pandas.core.frame.DataFrame'>\n",
      "RangeIndex: 2016 entries, 0 to 2015\n",
      "Data columns (total 8 columns):\n",
      " #   Column          Non-Null Count  Dtype  \n",
      "---  ------          --------------  -----  \n",
      " 0   beds            2016 non-null   int64  \n",
      " 1   baths           2016 non-null   float64\n",
      " 2   size            2016 non-null   float64\n",
      " 3   size_units      2016 non-null   object \n",
      " 4   lot_size        1669 non-null   float64\n",
      " 5   lot_size_units  1669 non-null   object \n",
      " 6   zip_code        2016 non-null   int64  \n",
      " 7   price           2016 non-null   float64\n",
      "dtypes: float64(4), int64(2), object(2)\n",
      "memory usage: 126.1+ KB\n"
     ]
    },
    {
     "data": {
      "text/html": [
       "<div>\n",
       "<style scoped>\n",
       "    .dataframe tbody tr th:only-of-type {\n",
       "        vertical-align: middle;\n",
       "    }\n",
       "\n",
       "    .dataframe tbody tr th {\n",
       "        vertical-align: top;\n",
       "    }\n",
       "\n",
       "    .dataframe thead th {\n",
       "        text-align: right;\n",
       "    }\n",
       "</style>\n",
       "<table border=\"1\" class=\"dataframe\">\n",
       "  <thead>\n",
       "    <tr style=\"text-align: right;\">\n",
       "      <th></th>\n",
       "      <th>beds</th>\n",
       "      <th>baths</th>\n",
       "      <th>size</th>\n",
       "      <th>lot_size</th>\n",
       "      <th>zip_code</th>\n",
       "      <th>price</th>\n",
       "    </tr>\n",
       "  </thead>\n",
       "  <tbody>\n",
       "    <tr>\n",
       "      <th>count</th>\n",
       "      <td>2016.000000</td>\n",
       "      <td>2016.000000</td>\n",
       "      <td>2016.000000</td>\n",
       "      <td>1669.000000</td>\n",
       "      <td>2016.000000</td>\n",
       "      <td>2.016000e+03</td>\n",
       "    </tr>\n",
       "    <tr>\n",
       "      <th>mean</th>\n",
       "      <td>2.857639</td>\n",
       "      <td>2.159970</td>\n",
       "      <td>1735.740575</td>\n",
       "      <td>3871.059694</td>\n",
       "      <td>98123.638889</td>\n",
       "      <td>9.636252e+05</td>\n",
       "    </tr>\n",
       "    <tr>\n",
       "      <th>std</th>\n",
       "      <td>1.255092</td>\n",
       "      <td>1.002023</td>\n",
       "      <td>920.132591</td>\n",
       "      <td>2719.402066</td>\n",
       "      <td>22.650819</td>\n",
       "      <td>9.440954e+05</td>\n",
       "    </tr>\n",
       "    <tr>\n",
       "      <th>min</th>\n",
       "      <td>1.000000</td>\n",
       "      <td>0.500000</td>\n",
       "      <td>250.000000</td>\n",
       "      <td>0.230000</td>\n",
       "      <td>98101.000000</td>\n",
       "      <td>1.590000e+05</td>\n",
       "    </tr>\n",
       "    <tr>\n",
       "      <th>25%</th>\n",
       "      <td>2.000000</td>\n",
       "      <td>1.500000</td>\n",
       "      <td>1068.750000</td>\n",
       "      <td>1252.000000</td>\n",
       "      <td>98108.000000</td>\n",
       "      <td>6.017500e+05</td>\n",
       "    </tr>\n",
       "    <tr>\n",
       "      <th>50%</th>\n",
       "      <td>3.000000</td>\n",
       "      <td>2.000000</td>\n",
       "      <td>1560.000000</td>\n",
       "      <td>4000.000000</td>\n",
       "      <td>98117.000000</td>\n",
       "      <td>8.000000e+05</td>\n",
       "    </tr>\n",
       "    <tr>\n",
       "      <th>75%</th>\n",
       "      <td>4.000000</td>\n",
       "      <td>2.500000</td>\n",
       "      <td>2222.500000</td>\n",
       "      <td>6000.000000</td>\n",
       "      <td>98126.000000</td>\n",
       "      <td>1.105250e+06</td>\n",
       "    </tr>\n",
       "    <tr>\n",
       "      <th>max</th>\n",
       "      <td>15.000000</td>\n",
       "      <td>9.000000</td>\n",
       "      <td>11010.000000</td>\n",
       "      <td>9998.000000</td>\n",
       "      <td>98199.000000</td>\n",
       "      <td>2.500000e+07</td>\n",
       "    </tr>\n",
       "  </tbody>\n",
       "</table>\n",
       "</div>"
      ],
      "text/plain": [
       "              beds        baths          size     lot_size      zip_code  \\\n",
       "count  2016.000000  2016.000000   2016.000000  1669.000000   2016.000000   \n",
       "mean      2.857639     2.159970   1735.740575  3871.059694  98123.638889   \n",
       "std       1.255092     1.002023    920.132591  2719.402066     22.650819   \n",
       "min       1.000000     0.500000    250.000000     0.230000  98101.000000   \n",
       "25%       2.000000     1.500000   1068.750000  1252.000000  98108.000000   \n",
       "50%       3.000000     2.000000   1560.000000  4000.000000  98117.000000   \n",
       "75%       4.000000     2.500000   2222.500000  6000.000000  98126.000000   \n",
       "max      15.000000     9.000000  11010.000000  9998.000000  98199.000000   \n",
       "\n",
       "              price  \n",
       "count  2.016000e+03  \n",
       "mean   9.636252e+05  \n",
       "std    9.440954e+05  \n",
       "min    1.590000e+05  \n",
       "25%    6.017500e+05  \n",
       "50%    8.000000e+05  \n",
       "75%    1.105250e+06  \n",
       "max    2.500000e+07  "
      ]
     },
     "execution_count": 4,
     "metadata": {},
     "output_type": "execute_result"
    }
   ],
   "source": [
    "train.info()\n",
    "train.describe()"
   ]
  },
  {
   "cell_type": "markdown",
   "id": "7105e10d-ba66-49e9-bed3-171a0df5acfd",
   "metadata": {},
   "source": [
    "We can observe here that the data types are correct, so we won't need to change anything."
   ]
  },
  {
   "cell_type": "code",
   "execution_count": 5,
   "id": "8a96fd7f-0e90-4733-ab73-4c2020133015",
   "metadata": {},
   "outputs": [
    {
     "name": "stdout",
     "output_type": "stream",
     "text": [
      "beds                0\n",
      "baths               0\n",
      "size                0\n",
      "size_units          0\n",
      "lot_size          347\n",
      "lot_size_units    347\n",
      "zip_code            0\n",
      "price               0\n",
      "dtype: int64\n"
     ]
    }
   ],
   "source": [
    "# Counting the missing values\n",
    "print(train.isna().sum())"
   ]
  },
  {
   "cell_type": "code",
   "execution_count": 6,
   "id": "45cdc44a-6592-4da1-b36f-6dfb084c48f6",
   "metadata": {},
   "outputs": [
    {
     "data": {
      "image/png": "[encoded data removed]",
      "text/plain": [
       "<Figure size 800x500 with 1 Axes>"
      ]
     },
     "metadata": {},
     "output_type": "display_data"
    }
   ],
   "source": [
    "# Some Data Visualization\n",
    "## Price (target variable) distribution\n",
    "plt.figure(figsize=(8,5))\n",
    "sns.histplot(train[\"price\"], kde=True)\n",
    "plt.title(\"Distribution of House Prices\")\n",
    "plt.xlabel(\"Price\")\n",
    "plt.ylabel(\"Frequency\")\n",
    "plt.show()"
   ]
  },
  {
   "cell_type": "markdown",
   "id": "f1c6f428-9ffb-4970-bfe0-579f72691422",
   "metadata": {},
   "source": [
    "We see that the House Prices distribution is heavily right-skewed, so to stabilize it more we will use the log"
   ]
  },
  {
   "cell_type": "code",
   "execution_count": 7,
   "id": "bb5bb44d-e38d-41fd-870a-1d49dc46ab21",
   "metadata": {},
   "outputs": [
    {
     "data": {
      "image/png": "[encoded data removed]",
      "text/plain": [
       "<Figure size 800x500 with 1 Axes>"
      ]
     },
     "metadata": {},
     "output_type": "display_data"
    }
   ],
   "source": [
    "# Some Data Visualization\n",
    "## Price (target variable) distribution\n",
    "plt.figure(figsize=(8,5))\n",
    "sns.histplot(np.log1p(train['price']), kde=True)\n",
    "plt.title(\"Log-Distribution of House Prices\")\n",
    "plt.xlabel(\"Price\")\n",
    "plt.ylabel(\"Frequency\")\n",
    "plt.show()"
   ]
  },
  {
   "cell_type": "code",
   "execution_count": 8,
   "id": "f189a526-486a-417c-bca9-bedeb32eae38",
   "metadata": {},
   "outputs": [
    {
     "data": {
      "image/png": "[encoded data removed]",
      "text/plain": [
       "<Figure size 800x500 with 1 Axes>"
      ]
     },
     "metadata": {},
     "output_type": "display_data"
    }
   ],
   "source": [
    "## Boxplot to see the outliers\n",
    "plt.figure(figsize=(8,5))\n",
    "sns.boxplot(x='beds', y='price', data=train)\n",
    "plt.yscale('log')\n",
    "plt.title('House Prices by Number of Bedrooms (Log Scale)')\n",
    "plt.xlabel('Bedrooms')\n",
    "plt.ylabel('Price (Log Scale)')\n",
    "plt.show()"
   ]
  },
  {
   "cell_type": "code",
   "execution_count": 9,
   "id": "48906e8e-1bdf-4910-8eea-a153da98411c",
   "metadata": {},
   "outputs": [
    {
     "data": {
      "image/png": "[encoded data removed]",
      "text/plain": [
       "<Figure size 1800x500 with 3 Axes>"
      ]
     },
     "metadata": {},
     "output_type": "display_data"
    }
   ],
   "source": [
    "plt.figure(figsize=(18, 5))\n",
    "\n",
    "### 1. Boxplot - Price vs Bathrooms\n",
    "plt.subplot(1, 3, 1)\n",
    "sns.boxplot(x='baths', y='price', data=train)\n",
    "plt.title('Price by Bathrooms')\n",
    "plt.xlabel('Bathrooms')\n",
    "plt.ylabel('Price')\n",
    "\n",
    "### 2. Scatterplot - Price vs Size\n",
    "plt.subplot(1, 3, 2)\n",
    "sns.scatterplot(x='size', y='price', data=train)\n",
    "plt.title('Price vs Size')\n",
    "plt.xlabel('Size (sqft)')\n",
    "plt.ylabel('Price')\n",
    "\n",
    "### 3. Scatterplot - Price vs Lot Size\n",
    "plt.subplot(1, 3, 3)\n",
    "sns.scatterplot(x='lot_size', y='price', data=train)\n",
    "plt.title('Price vs Lot Size')\n",
    "plt.xlabel('Lot Size (sqft)')\n",
    "plt.ylabel('Price')\n",
    "\n",
    "plt.tight_layout()\n",
    "plt.show()"
   ]
  },
  {
   "cell_type": "markdown",
   "id": "a3a83540-972f-4ee1-819f-2049c70b7f4b",
   "metadata": {},
   "source": [
    "From what we viewed before, we see in `lot_size_units`, two units have been used. So we will need to unify them."
   ]
  },
  {
   "cell_type": "code",
   "execution_count": 10,
   "id": "32dda0ed-bb69-4ec1-93a3-b74c708d1f46",
   "metadata": {},
   "outputs": [
    {
     "name": "stdout",
     "output_type": "stream",
     "text": [
      "['sqft' 'acre' nan]\n",
      "lot_size_units\n",
      "sqft    1449\n",
      "acre     220\n",
      "Name: count, dtype: int64\n"
     ]
    }
   ],
   "source": [
    "print(train['lot_size_units'].unique())\n",
    "\n",
    "print(train['lot_size_units'].value_counts())"
   ]
  },
  {
   "cell_type": "markdown",
   "id": "683aa350-7120-467b-ae0b-dfdb229ccbfe",
   "metadata": {},
   "source": [
    "Since 'sqft' is the most used, then we will map 'acre' to 'sqft'"
   ]
  },
  {
   "cell_type": "code",
   "execution_count": 11,
   "id": "ae9f02ec-df72-4aab-b41e-23477013489c",
   "metadata": {},
   "outputs": [
    {
     "name": "stdout",
     "output_type": "stream",
     "text": [
      "['sqft' 'acre' nan]\n"
     ]
    }
   ],
   "source": [
    "# Conversion factor: 1 acre = 43560 sqft\n",
    "to_be_changed = train[\"lot_size_units\"] == \"acre\"\n",
    "train.loc[to_be_changed, \"lot_size\"] *= 43560\n",
    "\n",
    "print(train['lot_size_units'].unique())\n"
   ]
  },
  {
   "cell_type": "markdown",
   "id": "57ce2586-e692-4378-8c05-dae8f9292dbd",
   "metadata": {},
   "source": [
    "Since the columns `size_units`, `lot_size_units` and `zip_code` are useless, we will remove them"
   ]
  },
  {
   "cell_type": "code",
   "execution_count": 12,
   "id": "7f86ad75-e092-46b9-a4e9-b2b8413bbda4",
   "metadata": {},
   "outputs": [
    {
     "data": {
      "text/plain": [
       "Index(['beds', 'baths', 'size', 'lot_size', 'price'], dtype='object')"
      ]
     },
     "execution_count": 12,
     "metadata": {},
     "output_type": "execute_result"
    }
   ],
   "source": [
    "train.drop(columns=['lot_size_units', 'size_units', 'zip_code'], inplace=True)\n",
    "train.columns"
   ]
  },
  {
   "cell_type": "code",
   "execution_count": 13,
   "id": "3bf9a64e-d3d5-4f1a-b4b6-5c28068fff8a",
   "metadata": {},
   "outputs": [
    {
     "name": "stdout",
     "output_type": "stream",
     "text": [
      "beds         0.000000\n",
      "baths        0.000000\n",
      "size         0.000000\n",
      "lot_size    17.212302\n",
      "price        0.000000\n",
      "dtype: float64\n"
     ]
    }
   ],
   "source": [
    "missing_counts = train.isnull().sum()\n",
    "missing_percentage = (train.isnull().sum() / len(train)) * 100\n",
    "print(missing_percentage)"
   ]
  },
  {
   "cell_type": "markdown",
   "id": "56c0d95b-04a5-44f4-9874-cb425073a62f",
   "metadata": {},
   "source": [
    "Since our distribution is skewed, we will replace the `lot_size` missing values by the median"
   ]
  },
  {
   "cell_type": "code",
   "execution_count": 14,
   "id": "52247a32-6e9f-4370-b7b9-b94db1764c1c",
   "metadata": {},
   "outputs": [
    {
     "data": {
      "text/plain": [
       "beds        0\n",
       "baths       0\n",
       "size        0\n",
       "lot_size    0\n",
       "price       0\n",
       "dtype: int64"
      ]
     },
     "execution_count": 14,
     "metadata": {},
     "output_type": "execute_result"
    }
   ],
   "source": [
    "median = train[\"lot_size\"].median()\n",
    "train[\"lot_size\"] = train[\"lot_size\"].fillna(median)\n",
    "# We check again the null values\n",
    "train.isna().sum()"
   ]
  },
  {
   "cell_type": "code",
   "execution_count": 15,
   "id": "3f6d5c3d-3b40-4504-bd08-51de1fa2d209",
   "metadata": {},
   "outputs": [
    {
     "data": {
      "text/plain": [
       "np.int64(9)"
      ]
     },
     "execution_count": 15,
     "metadata": {},
     "output_type": "execute_result"
    }
   ],
   "source": [
    "# Checking duplicates\n",
    "train.duplicated().sum()"
   ]
  },
  {
   "cell_type": "code",
   "execution_count": 16,
   "id": "e9980950-30d3-49c0-970c-53d8d196ee3a",
   "metadata": {},
   "outputs": [
    {
     "data": {
      "text/plain": [
       "np.int64(0)"
      ]
     },
     "execution_count": 16,
     "metadata": {},
     "output_type": "execute_result"
    }
   ],
   "source": [
    "# Dropping them\n",
    "train.drop_duplicates(inplace=True)\n",
    "train.duplicated().sum()"
   ]
  },
  {
   "cell_type": "code",
   "execution_count": 17,
   "id": "e1773aea-1109-498f-9c7c-1ba65666f8ff",
   "metadata": {},
   "outputs": [
    {
     "name": "stdout",
     "output_type": "stream",
     "text": [
      "<class 'pandas.core.frame.DataFrame'>\n",
      "Index: 2007 entries, 0 to 2015\n",
      "Data columns (total 5 columns):\n",
      " #   Column    Non-Null Count  Dtype  \n",
      "---  ------    --------------  -----  \n",
      " 0   beds      2007 non-null   int64  \n",
      " 1   baths     2007 non-null   float64\n",
      " 2   size      2007 non-null   float64\n",
      " 3   lot_size  2007 non-null   float64\n",
      " 4   price     2007 non-null   float64\n",
      "dtypes: float64(4), int64(1)\n",
      "memory usage: 94.1 KB\n"
     ]
    },
    {
     "data": {
      "text/html": [
       "<div>\n",
       "<style scoped>\n",
       "    .dataframe tbody tr th:only-of-type {\n",
       "        vertical-align: middle;\n",
       "    }\n",
       "\n",
       "    .dataframe tbody tr th {\n",
       "        vertical-align: top;\n",
       "    }\n",
       "\n",
       "    .dataframe thead th {\n",
       "        text-align: right;\n",
       "    }\n",
       "</style>\n",
       "<table border=\"1\" class=\"dataframe\">\n",
       "  <thead>\n",
       "    <tr style=\"text-align: right;\">\n",
       "      <th></th>\n",
       "      <th>beds</th>\n",
       "      <th>baths</th>\n",
       "      <th>size</th>\n",
       "      <th>lot_size</th>\n",
       "      <th>price</th>\n",
       "    </tr>\n",
       "  </thead>\n",
       "  <tbody>\n",
       "    <tr>\n",
       "      <th>count</th>\n",
       "      <td>2007.000000</td>\n",
       "      <td>2007.000000</td>\n",
       "      <td>2007.000000</td>\n",
       "      <td>2.007000e+03</td>\n",
       "      <td>2.007000e+03</td>\n",
       "    </tr>\n",
       "    <tr>\n",
       "      <th>mean</th>\n",
       "      <td>2.861983</td>\n",
       "      <td>2.161435</td>\n",
       "      <td>1738.770802</td>\n",
       "      <td>1.647136e+04</td>\n",
       "      <td>9.640700e+05</td>\n",
       "    </tr>\n",
       "    <tr>\n",
       "      <th>std</th>\n",
       "      <td>1.255252</td>\n",
       "      <td>1.003035</td>\n",
       "      <td>920.334647</td>\n",
       "      <td>2.627309e+05</td>\n",
       "      <td>9.461237e+05</td>\n",
       "    </tr>\n",
       "    <tr>\n",
       "      <th>min</th>\n",
       "      <td>1.000000</td>\n",
       "      <td>0.500000</td>\n",
       "      <td>250.000000</td>\n",
       "      <td>5.000000e+02</td>\n",
       "      <td>1.590000e+05</td>\n",
       "    </tr>\n",
       "    <tr>\n",
       "      <th>25%</th>\n",
       "      <td>2.000000</td>\n",
       "      <td>1.500000</td>\n",
       "      <td>1070.000000</td>\n",
       "      <td>3.495500e+03</td>\n",
       "      <td>6.000000e+05</td>\n",
       "    </tr>\n",
       "    <tr>\n",
       "      <th>50%</th>\n",
       "      <td>3.000000</td>\n",
       "      <td>2.000000</td>\n",
       "      <td>1560.000000</td>\n",
       "      <td>5.000000e+03</td>\n",
       "      <td>8.000000e+05</td>\n",
       "    </tr>\n",
       "    <tr>\n",
       "      <th>75%</th>\n",
       "      <td>4.000000</td>\n",
       "      <td>2.500000</td>\n",
       "      <td>2230.000000</td>\n",
       "      <td>6.602000e+03</td>\n",
       "      <td>1.109000e+06</td>\n",
       "    </tr>\n",
       "    <tr>\n",
       "      <th>max</th>\n",
       "      <td>15.000000</td>\n",
       "      <td>9.000000</td>\n",
       "      <td>11010.000000</td>\n",
       "      <td>1.089000e+07</td>\n",
       "      <td>2.500000e+07</td>\n",
       "    </tr>\n",
       "  </tbody>\n",
       "</table>\n",
       "</div>"
      ],
      "text/plain": [
       "              beds        baths          size      lot_size         price\n",
       "count  2007.000000  2007.000000   2007.000000  2.007000e+03  2.007000e+03\n",
       "mean      2.861983     2.161435   1738.770802  1.647136e+04  9.640700e+05\n",
       "std       1.255252     1.003035    920.334647  2.627309e+05  9.461237e+05\n",
       "min       1.000000     0.500000    250.000000  5.000000e+02  1.590000e+05\n",
       "25%       2.000000     1.500000   1070.000000  3.495500e+03  6.000000e+05\n",
       "50%       3.000000     2.000000   1560.000000  5.000000e+03  8.000000e+05\n",
       "75%       4.000000     2.500000   2230.000000  6.602000e+03  1.109000e+06\n",
       "max      15.000000     9.000000  11010.000000  1.089000e+07  2.500000e+07"
      ]
     },
     "execution_count": 17,
     "metadata": {},
     "output_type": "execute_result"
    }
   ],
   "source": [
    "train.info()\n",
    "train.describe()"
   ]
  },
  {
   "cell_type": "code",
   "execution_count": 18,
   "id": "a9dc8c57-e938-48bf-8194-64c67d1371c5",
   "metadata": {},
   "outputs": [
    {
     "data": {
      "text/plain": [
       "<Axes: >"
      ]
     },
     "execution_count": 18,
     "metadata": {},
     "output_type": "execute_result"
    },
    {
     "data": {
      "image/png": "[encoded data removed]",
      "text/plain": [
       "<Figure size 800x600 with 2 Axes>"
      ]
     },
     "metadata": {},
     "output_type": "display_data"
    }
   ],
   "source": [
    "correl = train.corr().round(2)\n",
    "plt.figure(figsize = (8,6))\n",
    "sns.heatmap(correl, annot = True, cmap = 'YlOrBr')"
   ]
  },
  {
   "cell_type": "markdown",
   "id": "0b1b8ae7-e9d7-4b01-a5de-c881274a3c57",
   "metadata": {},
   "source": [
    "We see that the size is the strongest predictor of price among the features."
   ]
  },
  {
   "cell_type": "markdown",
   "id": "6ec122ee-0aab-4815-8453-e48b65ab615b",
   "metadata": {},
   "source": [
    "# Test Data"
   ]
  },
  {
   "cell_type": "markdown",
   "id": "2bd8abd1-e6aa-4096-9c7d-fbf0a0e56dec",
   "metadata": {},
   "source": [
    "We will do basically the same thing for the test dataset"
   ]
  },
  {
   "cell_type": "code",
   "execution_count": 19,
   "id": "bcb57d7b-9934-4153-b4b9-f6b2d505b93e",
   "metadata": {},
   "outputs": [
    {
     "data": {
      "text/html": [
       "<div>\n",
       "<style scoped>\n",
       "    .dataframe tbody tr th:only-of-type {\n",
       "        vertical-align: middle;\n",
       "    }\n",
       "\n",
       "    .dataframe tbody tr th {\n",
       "        vertical-align: top;\n",
       "    }\n",
       "\n",
       "    .dataframe thead th {\n",
       "        text-align: right;\n",
       "    }\n",
       "</style>\n",
       "<table border=\"1\" class=\"dataframe\">\n",
       "  <thead>\n",
       "    <tr style=\"text-align: right;\">\n",
       "      <th></th>\n",
       "      <th>beds</th>\n",
       "      <th>baths</th>\n",
       "      <th>size</th>\n",
       "      <th>size_units</th>\n",
       "      <th>lot_size</th>\n",
       "      <th>lot_size_units</th>\n",
       "      <th>zip_code</th>\n",
       "      <th>price</th>\n",
       "    </tr>\n",
       "  </thead>\n",
       "  <tbody>\n",
       "    <tr>\n",
       "      <th>0</th>\n",
       "      <td>3</td>\n",
       "      <td>3.0</td>\n",
       "      <td>2850.0</td>\n",
       "      <td>sqft</td>\n",
       "      <td>4200.00</td>\n",
       "      <td>sqft</td>\n",
       "      <td>98119</td>\n",
       "      <td>1175000.0</td>\n",
       "    </tr>\n",
       "    <tr>\n",
       "      <th>1</th>\n",
       "      <td>4</td>\n",
       "      <td>5.0</td>\n",
       "      <td>3040.0</td>\n",
       "      <td>sqft</td>\n",
       "      <td>5002.00</td>\n",
       "      <td>sqft</td>\n",
       "      <td>98106</td>\n",
       "      <td>1057500.0</td>\n",
       "    </tr>\n",
       "    <tr>\n",
       "      <th>2</th>\n",
       "      <td>3</td>\n",
       "      <td>1.0</td>\n",
       "      <td>1290.0</td>\n",
       "      <td>sqft</td>\n",
       "      <td>6048.00</td>\n",
       "      <td>sqft</td>\n",
       "      <td>98125</td>\n",
       "      <td>799000.0</td>\n",
       "    </tr>\n",
       "    <tr>\n",
       "      <th>3</th>\n",
       "      <td>3</td>\n",
       "      <td>2.0</td>\n",
       "      <td>2360.0</td>\n",
       "      <td>sqft</td>\n",
       "      <td>0.28</td>\n",
       "      <td>acre</td>\n",
       "      <td>98188</td>\n",
       "      <td>565000.0</td>\n",
       "    </tr>\n",
       "    <tr>\n",
       "      <th>4</th>\n",
       "      <td>3</td>\n",
       "      <td>3.5</td>\n",
       "      <td>1942.0</td>\n",
       "      <td>sqft</td>\n",
       "      <td>1603.00</td>\n",
       "      <td>sqft</td>\n",
       "      <td>98107</td>\n",
       "      <td>1187000.0</td>\n",
       "    </tr>\n",
       "  </tbody>\n",
       "</table>\n",
       "</div>"
      ],
      "text/plain": [
       "   beds  baths    size size_units  lot_size lot_size_units  zip_code  \\\n",
       "0     3    3.0  2850.0       sqft   4200.00           sqft     98119   \n",
       "1     4    5.0  3040.0       sqft   5002.00           sqft     98106   \n",
       "2     3    1.0  1290.0       sqft   6048.00           sqft     98125   \n",
       "3     3    2.0  2360.0       sqft      0.28           acre     98188   \n",
       "4     3    3.5  1942.0       sqft   1603.00           sqft     98107   \n",
       "\n",
       "       price  \n",
       "0  1175000.0  \n",
       "1  1057500.0  \n",
       "2   799000.0  \n",
       "3   565000.0  \n",
       "4  1187000.0  "
      ]
     },
     "execution_count": 19,
     "metadata": {},
     "output_type": "execute_result"
    }
   ],
   "source": [
    "test = pd.read_csv(\"Data/test.csv\")\n",
    "test.head()"
   ]
  },
  {
   "cell_type": "code",
   "execution_count": 20,
   "id": "31e0f29d-de6d-49e9-a577-a1063bb6e551",
   "metadata": {},
   "outputs": [
    {
     "name": "stdout",
     "output_type": "stream",
     "text": [
      "<class 'pandas.core.frame.DataFrame'>\n",
      "RangeIndex: 505 entries, 0 to 504\n",
      "Data columns (total 8 columns):\n",
      " #   Column          Non-Null Count  Dtype  \n",
      "---  ------          --------------  -----  \n",
      " 0   beds            505 non-null    int64  \n",
      " 1   baths           505 non-null    float64\n",
      " 2   size            505 non-null    float64\n",
      " 3   size_units      505 non-null    object \n",
      " 4   lot_size        428 non-null    float64\n",
      " 5   lot_size_units  428 non-null    object \n",
      " 6   zip_code        505 non-null    int64  \n",
      " 7   price           505 non-null    float64\n",
      "dtypes: float64(4), int64(2), object(2)\n",
      "memory usage: 31.7+ KB\n",
      "None\n",
      "             beds       baths         size     lot_size      zip_code  \\\n",
      "count  505.000000  505.000000   505.000000   428.000000    505.000000   \n",
      "mean     2.954455    2.219802  1851.843564  3994.459813  98125.366337   \n",
      "std      1.214947    1.013404   922.556090  2696.962024     24.875054   \n",
      "min      1.000000    1.000000   376.000000     0.230000  98101.000000   \n",
      "25%      2.000000    1.500000  1171.000000  1326.500000  98108.000000   \n",
      "50%      3.000000    2.000000  1690.000000  4190.000000  98118.000000   \n",
      "75%      4.000000    2.500000  2400.000000  6000.000000  98126.000000   \n",
      "max      9.000000    7.000000  6139.000000  9974.000000  98199.000000   \n",
      "\n",
      "              price  \n",
      "count  5.050000e+02  \n",
      "mean   9.795822e+05  \n",
      "std    6.084759e+05  \n",
      "min    1.700000e+05  \n",
      "25%    6.199900e+05  \n",
      "50%    8.400000e+05  \n",
      "75%    1.155000e+06  \n",
      "max    6.250000e+06  \n",
      "beds               0\n",
      "baths              0\n",
      "size               0\n",
      "size_units         0\n",
      "lot_size          77\n",
      "lot_size_units    77\n",
      "zip_code           0\n",
      "price              0\n",
      "dtype: int64\n",
      "['sqft' 'acre' nan]\n",
      "lot_size_units\n",
      "sqft    369\n",
      "acre     59\n",
      "Name: count, dtype: int64\n",
      "['sqft' 'acre' nan]\n",
      "beds        0\n",
      "baths       0\n",
      "size        0\n",
      "lot_size    0\n",
      "price       0\n",
      "dtype: int64\n",
      "Duplicates before drop: 1\n",
      "Duplicates after drop: 0\n",
      "<class 'pandas.core.frame.DataFrame'>\n",
      "Index: 504 entries, 0 to 504\n",
      "Data columns (total 5 columns):\n",
      " #   Column    Non-Null Count  Dtype  \n",
      "---  ------    --------------  -----  \n",
      " 0   beds      504 non-null    int64  \n",
      " 1   baths     504 non-null    float64\n",
      " 2   size      504 non-null    float64\n",
      " 3   lot_size  504 non-null    float64\n",
      " 4   price     504 non-null    float64\n",
      "dtypes: float64(4), int64(1)\n",
      "memory usage: 23.6 KB\n"
     ]
    },
    {
     "data": {
      "text/html": [
       "<div>\n",
       "<style scoped>\n",
       "    .dataframe tbody tr th:only-of-type {\n",
       "        vertical-align: middle;\n",
       "    }\n",
       "\n",
       "    .dataframe tbody tr th {\n",
       "        vertical-align: top;\n",
       "    }\n",
       "\n",
       "    .dataframe thead th {\n",
       "        text-align: right;\n",
       "    }\n",
       "</style>\n",
       "<table border=\"1\" class=\"dataframe\">\n",
       "  <thead>\n",
       "    <tr style=\"text-align: right;\">\n",
       "      <th></th>\n",
       "      <th>beds</th>\n",
       "      <th>baths</th>\n",
       "      <th>size</th>\n",
       "      <th>lot_size</th>\n",
       "      <th>price</th>\n",
       "    </tr>\n",
       "  </thead>\n",
       "  <tbody>\n",
       "    <tr>\n",
       "      <th>count</th>\n",
       "      <td>504.000000</td>\n",
       "      <td>504.000000</td>\n",
       "      <td>504.000000</td>\n",
       "      <td>504.000000</td>\n",
       "      <td>5.040000e+02</td>\n",
       "    </tr>\n",
       "    <tr>\n",
       "      <th>mean</th>\n",
       "      <td>2.958333</td>\n",
       "      <td>2.222222</td>\n",
       "      <td>1854.771825</td>\n",
       "      <td>8355.428968</td>\n",
       "      <td>9.795417e+05</td>\n",
       "    </tr>\n",
       "    <tr>\n",
       "      <th>std</th>\n",
       "      <td>1.213022</td>\n",
       "      <td>1.012949</td>\n",
       "      <td>921.120496</td>\n",
       "      <td>17514.025903</td>\n",
       "      <td>6.090798e+05</td>\n",
       "    </tr>\n",
       "    <tr>\n",
       "      <th>min</th>\n",
       "      <td>1.000000</td>\n",
       "      <td>1.000000</td>\n",
       "      <td>376.000000</td>\n",
       "      <td>529.000000</td>\n",
       "      <td>1.700000e+05</td>\n",
       "    </tr>\n",
       "    <tr>\n",
       "      <th>25%</th>\n",
       "      <td>2.000000</td>\n",
       "      <td>1.500000</td>\n",
       "      <td>1173.250000</td>\n",
       "      <td>3770.750000</td>\n",
       "      <td>6.197425e+05</td>\n",
       "    </tr>\n",
       "    <tr>\n",
       "      <th>50%</th>\n",
       "      <td>3.000000</td>\n",
       "      <td>2.000000</td>\n",
       "      <td>1690.000000</td>\n",
       "      <td>5011.000000</td>\n",
       "      <td>8.400000e+05</td>\n",
       "    </tr>\n",
       "    <tr>\n",
       "      <th>75%</th>\n",
       "      <td>4.000000</td>\n",
       "      <td>2.500000</td>\n",
       "      <td>2402.500000</td>\n",
       "      <td>6780.000000</td>\n",
       "      <td>1.156250e+06</td>\n",
       "    </tr>\n",
       "    <tr>\n",
       "      <th>max</th>\n",
       "      <td>9.000000</td>\n",
       "      <td>7.000000</td>\n",
       "      <td>6139.000000</td>\n",
       "      <td>176853.600000</td>\n",
       "      <td>6.250000e+06</td>\n",
       "    </tr>\n",
       "  </tbody>\n",
       "</table>\n",
       "</div>"
      ],
      "text/plain": [
       "             beds       baths         size       lot_size         price\n",
       "count  504.000000  504.000000   504.000000     504.000000  5.040000e+02\n",
       "mean     2.958333    2.222222  1854.771825    8355.428968  9.795417e+05\n",
       "std      1.213022    1.012949   921.120496   17514.025903  6.090798e+05\n",
       "min      1.000000    1.000000   376.000000     529.000000  1.700000e+05\n",
       "25%      2.000000    1.500000  1173.250000    3770.750000  6.197425e+05\n",
       "50%      3.000000    2.000000  1690.000000    5011.000000  8.400000e+05\n",
       "75%      4.000000    2.500000  2402.500000    6780.000000  1.156250e+06\n",
       "max      9.000000    7.000000  6139.000000  176853.600000  6.250000e+06"
      ]
     },
     "execution_count": 20,
     "metadata": {},
     "output_type": "execute_result"
    }
   ],
   "source": [
    "def clean_dataset(df):\n",
    "    print(df.info())\n",
    "    print(df.describe())\n",
    "    print(df.isna().sum())\n",
    "    print(df['lot_size_units'].unique())\n",
    "\n",
    "    print(df['lot_size_units'].value_counts())\n",
    "\n",
    "    # Convert 'acre' to sqft\n",
    "    to_be_changed = df[\"lot_size_units\"] == \"acre\"\n",
    "    df.loc[to_be_changed, \"lot_size\"] *= 43560\n",
    "\n",
    "    print(df['lot_size_units'].unique())\n",
    "\n",
    "    # Drop unnecessary columns\n",
    "    df.drop(columns=['lot_size_units', 'size_units', 'zip_code'], inplace=True)\n",
    "\n",
    "    # Fill missing lot_size with median of this dataset\n",
    "    median = df[\"lot_size\"].median()\n",
    "    df[\"lot_size\"] = df[\"lot_size\"].fillna(median)\n",
    "\n",
    "    print(df.isna().sum())\n",
    "\n",
    "    # Remove duplicates\n",
    "    print(\"Duplicates before drop:\", df.duplicated().sum())\n",
    "    df.drop_duplicates(inplace=True)\n",
    "    print(\"Duplicates after drop:\", df.duplicated().sum())\n",
    "\n",
    "    return df\n",
    "\n",
    "test = clean_dataset(test)\n",
    "test.info()\n",
    "test.describe()"
   ]
  },
  {
   "cell_type": "code",
   "execution_count": null,
   "id": "8766b006-a9e1-4407-ba31-63247840427b",
   "metadata": {},
   "outputs": [],
   "source": []
  },
  {
   "cell_type": "markdown",
   "id": "ee2044ec-e313-4fae-afb8-bb479c46aecc",
   "metadata": {},
   "source": [
    "# Model Development"
   ]
  },
  {
   "cell_type": "markdown",
   "id": "01fd2cb2-1612-46f8-bc11-dc0706056ea3",
   "metadata": {},
   "source": [
    "## 1- Linear Regression"
   ]
  },
  {
   "cell_type": "code",
   "execution_count": 21,
   "id": "d33efdda-8c6e-41fc-b124-14f3de460d55",
   "metadata": {},
   "outputs": [],
   "source": [
    "# Splitting data into x and y frames:\n",
    "\n",
    "# Explanatory variables\n",
    "X = train.drop(columns=['price'])\n",
    "\n",
    "# Target (response variable)\n",
    "y = train['price']\n",
    "\n",
    "X_test = test.drop(columns=['price'])\n",
    "y_test = test['price']"
   ]
  },
  {
   "cell_type": "markdown",
   "id": "2317ba28-37de-489b-9fcd-ebc7d7b34a38",
   "metadata": {},
   "source": [
    "We will perform Cross-Validation to:\n",
    "\n",
    "    - Tune hyperparameters\n",
    "\n",
    "    - Check model stability\n",
    "\n",
    "    - Avoid overfitting"
   ]
  },
  {
   "cell_type": "code",
   "execution_count": 22,
   "id": "2d2c6914-fddb-4d27-822b-cb538be4a19e",
   "metadata": {},
   "outputs": [
    {
     "name": "stdout",
     "output_type": "stream",
     "text": [
      "Cross-Validation RMSE: 845971.08\n"
     ]
    }
   ],
   "source": [
    "model = LinearRegression()\n",
    "cv_results = cross_val_score(model, X, y, cv=5, scoring='neg_mean_squared_error')\n",
    "\n",
    "# Calculate RMSE\n",
    "rmse = (-cv_results.mean()) ** 0.5\n",
    "print(f\"Cross-Validation RMSE: {rmse:.2f}\")"
   ]
  },
  {
   "cell_type": "code",
   "execution_count": 23,
   "id": "83c8162f-c90d-44d8-9a06-9e3b577a037d",
   "metadata": {},
   "outputs": [
    {
     "name": "stdout",
     "output_type": "stream",
     "text": [
      "RMSE represents 87.75% of average price\n"
     ]
    }
   ],
   "source": [
    "rmse_percent = (rmse / y.mean()) * 100\n",
    "print(f\"RMSE represents {rmse_percent:.2f}% of average price\")"
   ]
  },
  {
   "cell_type": "markdown",
   "id": "d90e519e-9194-42d9-bee5-1933837079d7",
   "metadata": {},
   "source": [
    "This means that the model will poorly perform, that's why we will also use Ridge and Lasso Regression, and try to improve it"
   ]
  },
  {
   "cell_type": "code",
   "execution_count": 24,
   "id": "62a4081f-9862-4000-bc1d-a5195ae06ed3",
   "metadata": {},
   "outputs": [],
   "source": [
    "# Model train & prediction\n",
    "model.fit(X, y)\n",
    "y_pred = model.predict(X_test)"
   ]
  },
  {
   "cell_type": "code",
   "execution_count": 25,
   "id": "3072fed2-51d9-4591-8dc4-dd88ae0a2c93",
   "metadata": {},
   "outputs": [
    {
     "name": "stdout",
     "output_type": "stream",
     "text": [
      "Test RMSE: 415568.27\n",
      "Test R² Score: 0.534\n"
     ]
    }
   ],
   "source": [
    "# Model Evaluation\n",
    "test_rmse = root_mean_squared_error(y_test, y_pred)\n",
    "test_r2 = r2_score(y_test, y_pred)\n",
    "\n",
    "print(f\"Test RMSE: {test_rmse:.2f}\")\n",
    "print(f\"Test R² Score: {test_r2:.3f}\")"
   ]
  },
  {
   "cell_type": "markdown",
   "id": "df9d050e-c3a3-4bf3-8686-9828295ed288",
   "metadata": {},
   "source": [
    "This is somehow a decent result but we can still improve it"
   ]
  },
  {
   "cell_type": "markdown",
   "id": "5edb0ec9-0c1f-4e5b-899f-df3bee56aaf8",
   "metadata": {},
   "source": [
    "**Ridge Regression**"
   ]
  },
  {
   "cell_type": "code",
   "execution_count": 26,
   "id": "c188605f-f538-48d5-9316-dffd77c30e8f",
   "metadata": {},
   "outputs": [
    {
     "name": "stdout",
     "output_type": "stream",
     "text": [
      "Alpha=0.01 | CV RMSE=845971.05\n",
      "Alpha=0.1 | CV RMSE=845970.80\n",
      "Alpha=1 | CV RMSE=845968.33\n",
      "Alpha=10 | CV RMSE=845944.72\n",
      "Alpha=100 | CV RMSE=845799.33\n",
      "Alpha=500 | CV RMSE=845942.80\n",
      "Alpha=1000 | CV RMSE=846390.90\n",
      "\n",
      " Best Alpha: 100 with CV RMSE: 845799.33\n"
     ]
    }
   ],
   "source": [
    "# List to store results\n",
    "scores = []\n",
    "alphas = [0.01, 0.1, 1, 10, 100, 500, 1000]\n",
    "\n",
    "# Loop through each alpha and compute CV score\n",
    "for alpha in alphas:\n",
    "    ridge = Ridge(alpha=alpha)\n",
    "    cv_rmse = cross_val_score(ridge, X, y, scoring='neg_mean_squared_error',cv=5)\n",
    "    mean_rmse = (-cv_rmse.mean()) ** 0.5\n",
    "    scores.append(mean_rmse)\n",
    "    print(f\"Alpha={alpha} | CV RMSE={mean_rmse:.2f}\")\n",
    "\n",
    "# Find best alpha\n",
    "best_idx = np.argmin(scores)\n",
    "best_alpha = alphas[best_idx]\n",
    "best_rmse = scores[best_idx]\n",
    "\n",
    "print(f\"\\n Best Alpha: {best_alpha} with CV RMSE: {best_rmse:.2f}\")\n"
   ]
  },
  {
   "cell_type": "code",
   "execution_count": 27,
   "id": "15695326-a664-4abc-830b-5c14d5779bc8",
   "metadata": {},
   "outputs": [],
   "source": [
    "ridge_model = Ridge(alpha=best_alpha)\n",
    "ridge_model.fit(X, y)\n",
    "y_ridge_pred = ridge_model.predict(X_test)"
   ]
  },
  {
   "cell_type": "code",
   "execution_count": 28,
   "id": "f98fc7fd-7623-48a1-9c5b-fd1ee84081c7",
   "metadata": {},
   "outputs": [
    {
     "name": "stdout",
     "output_type": "stream",
     "text": [
      "Test RMSE: 415946.72\n",
      "Test R² Score: 0.533\n"
     ]
    }
   ],
   "source": [
    "# Model Evaluation\n",
    "test_rmse_ridge = root_mean_squared_error(y_test, y_ridge_pred)\n",
    "test_r2_ridge = r2_score(y_test, y_ridge_pred)\n",
    "\n",
    "print(f\"Test RMSE: {test_rmse_ridge:.2f}\")\n",
    "print(f\"Test R² Score: {test_r2_ridge:.3f}\")"
   ]
  },
  {
   "cell_type": "markdown",
   "id": "f894bf15-f421-4d0d-856e-eb152a3d02fa",
   "metadata": {},
   "source": [
    "**Lasso Regression**"
   ]
  },
  {
   "cell_type": "code",
   "execution_count": 30,
   "id": "b29037e0-3794-4005-a967-efc1c01586e3",
   "metadata": {},
   "outputs": [
    {
     "name": "stdout",
     "output_type": "stream",
     "text": [
      "Alpha=0.01 | CV RMSE=845971.08\n",
      "Alpha=0.1 | CV RMSE=845971.08\n",
      "Alpha=1 | CV RMSE=845971.07\n",
      "Alpha=10 | CV RMSE=845971.06\n",
      "Alpha=100 | CV RMSE=845970.91\n",
      "Alpha=500 | CV RMSE=845970.78\n",
      "Alpha=1000 | CV RMSE=845972.07\n",
      "\n",
      "Best Alpha: 500 with CV RMSE: 845970.78\n"
     ]
    }
   ],
   "source": [
    "# List to store results\n",
    "scores = []\n",
    "alphas = [0.01, 0.1, 1, 10, 100, 500, 1000]\n",
    "\n",
    "# Loop through each alpha and compute CV RMSE\n",
    "for alpha in alphas:\n",
    "    lasso = Lasso(alpha=alpha, max_iter=10000)\n",
    "    cv_rmse = cross_val_score(lasso, X, y, scoring='neg_mean_squared_error', cv=5)\n",
    "    mean_rmse = (-cv_rmse.mean()) ** 0.5\n",
    "    scores.append(mean_rmse)\n",
    "    print(f\"Alpha={alpha} | CV RMSE={mean_rmse:.2f}\")\n",
    "\n",
    "# Best alpha selection\n",
    "best_idx = scores.index(min(scores))\n",
    "best_alpha = alphas[best_idx]\n",
    "best_rmse = scores[best_idx]\n",
    "\n",
    "print(f\"\\nBest Alpha: {best_alpha} with CV RMSE: {best_rmse:.2f}\")"
   ]
  },
  {
   "cell_type": "code",
   "execution_count": 31,
   "id": "a5921db9-e594-4601-90e9-c9786ed37ea5",
   "metadata": {},
   "outputs": [],
   "source": [
    "# Final Lasso Model\n",
    "lasso_model = Lasso(alpha=best_alpha)\n",
    "lasso_model.fit(X, y)\n",
    "y_lasso_pred = lasso_model.predict(X_test)"
   ]
  },
  {
   "cell_type": "code",
   "execution_count": 32,
   "id": "d21ef642-5a4e-47a8-8b56-806c4c5d8ad9",
   "metadata": {},
   "outputs": [
    {
     "name": "stdout",
     "output_type": "stream",
     "text": [
      "Test RMSE: 415623.06\n",
      "Test R² Score: 0.533\n"
     ]
    }
   ],
   "source": [
    "# Test Evaluation\n",
    "test_rmse_lasso = root_mean_squared_error(y_test, y_lasso_pred)\n",
    "test_r2_lasso = r2_score(y_test, y_lasso_pred)\n",
    "\n",
    "print(f\"Test RMSE: {test_rmse_lasso:.2f}\")\n",
    "print(f\"Test R² Score: {test_r2_lasso:.3f}\")"
   ]
  },
  {
   "cell_type": "markdown",
   "id": "87e5d370-d26a-41a6-a53c-33b0a0785fd5",
   "metadata": {},
   "source": [
    "## 📊 Overall Summary and Analysis\n",
    "\n",
    "In this project, we worked exclusively with **numerical, continuous data**, focusing on basic house features such as **beds, baths, size, lot size**, and the **price** as the target variable. Our dataset was reasonably sized but limited in scope, which naturally affected the strength of the predictions.\n",
    "\n",
    "---\n",
    "\n",
    "### 🟠 Data Preparation Insights\n",
    "During data exploration, we noticed:\n",
    "- Some **null values**, particularly in `lot_size`, which we filled using the **median** to avoid skewing the data.\n",
    "- Certain inconsistencies in measurement units (`lot_size_units`), which we **standardized to square feet** to ensure consistency.\n",
    "- The removal of **irrelevant features** like `size_units` and `zip_code` was necessary since they were either redundant or irrelevant to the modeling process.\n",
    "\n",
    "Despite preprocessing, the relationships between features and **price** remained relatively **weak or noisy** in exploratory plots, with **size** being the only variable showing a consistent increasing trend with price, which is logical for housing data.\n",
    "\n",
    "---\n",
    "\n",
    "### 🟢 Modeling Results\n",
    "We evaluated three regression models:\n",
    "- **Linear Regression** provided the **best overall performance**, reaching a **Test R² Score of ~53%** and a **Test RMSE around 415K**. This suggests a moderate ability to explain price variance while keeping the model simple and interpretable.\n",
    "- **Ridge Regression** and **Lasso Regression** both produced **slightly worse results**, with marginally higher RMSE and lower R². This implies that adding regularization introduced **bias** without offering enough variance reduction, likely due to the **small number of features** and relatively **simple relationships** in the data.\n",
    "\n",
    "---\n",
    "\n",
    "### ✅ Conclusions\n",
    "- The linear regression model was the **most suitable** in this scenario, **outperforming Ridge and Lasso**.\n",
    "- The **modest R² score** suggests that a significant portion of **price variability remains unexplained**, possibly due to:\n",
    "   - **Missing influential features** (e.g., location specifics, property condition),\n",
    "   - **High variance** within the dataset itself,\n",
    "   - Or the **limitations of linear models** in capturing more complex, non-linear relationships.\n",
    "- Future improvements could include:\n",
    "   - Testing **non-linear models** like Random Forest or Gradient Boosting,\n",
    "   - **Feature engineering** to create more informative predictors,\n",
    "   - Exploring **log-transformations** on price to reduce skewness and mitigate outlier impact.\n",
    "\n",
    "---\n",
    "\n",
    "In conclusion, with the available data and techniques used, the **simplest linear model** remained the most effective, setting a **baseline** for potential future improvements.\n"
   ]
  },
  {
   "cell_type": "code",
   "execution_count": null,
   "id": "8efc9d29-e4f0-4c7d-93a2-7700dc02f152",
   "metadata": {},
   "outputs": [],
   "source": []
  }
 ],
 "metadata": {
  "kernelspec": {
   "display_name": "Python 3 (ipykernel)",
   "language": "python",
   "name": "python3"
  },
  "language_info": {
   "codemirror_mode": {
    "name": "ipython",
    "version": 3
   },
   "file_extension": ".py",
   "mimetype": "text/x-python",
   "name": "python",
   "nbconvert_exporter": "python",
   "pygments_lexer": "ipython3",
   "version": "3.10.12"
  }
 },
 "nbformat": 4,
 "nbformat_minor": 5
}
